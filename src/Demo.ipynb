{
 "cells": [
  {
   "cell_type": "markdown",
   "id": "42047506",
   "metadata": {},
   "source": [
    "# Import necessary classes"
   ]
  },
  {
   "cell_type": "code",
   "execution_count": null,
   "id": "250801b4",
   "metadata": {},
   "outputs": [],
   "source": [
    "from Predictions import Predictions\n",
    "print(\"Predictions module loaded successfully.\")"
   ]
  },
  {
   "cell_type": "markdown",
   "id": "94fea37c",
   "metadata": {},
   "source": [
    "# Train models"
   ]
  },
  {
   "cell_type": "code",
   "execution_count": null,
   "id": "f85a0796",
   "metadata": {},
   "outputs": [],
   "source": [
    "path = \"/Users/alhof/Repository/GenAI/bronze/attrition.csv\"\n",
    "\n",
    "predictions = Predictions()\n",
    "predictions.train(path)"
   ]
  },
  {
   "cell_type": "markdown",
   "id": "f24fd7ab",
   "metadata": {},
   "source": [
    "# Predict and compare"
   ]
  },
  {
   "cell_type": "code",
   "execution_count": null,
   "id": "e44d9c2b",
   "metadata": {},
   "outputs": [],
   "source": [
    "predictions.validate(\"LiniearRegression\")"
   ]
  },
  {
   "cell_type": "code",
   "execution_count": null,
   "id": "42170836",
   "metadata": {},
   "outputs": [],
   "source": [
    "predictions.validate(\"RandomForest\")"
   ]
  },
  {
   "cell_type": "code",
   "execution_count": null,
   "id": "915ebdf9",
   "metadata": {},
   "outputs": [],
   "source": [
    "predictions.validate(\"NeuralNetwork\")"
   ]
  }
 ],
 "metadata": {
  "kernelspec": {
   "display_name": "ML",
   "language": "python",
   "name": "python3"
  },
  "language_info": {
   "codemirror_mode": {
    "name": "ipython",
    "version": 3
   },
   "file_extension": ".py",
   "mimetype": "text/x-python",
   "name": "python",
   "nbconvert_exporter": "python",
   "pygments_lexer": "ipython3",
   "version": "3.13.1"
  }
 },
 "nbformat": 4,
 "nbformat_minor": 5
}
